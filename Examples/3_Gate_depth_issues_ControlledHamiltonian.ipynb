{
 "cells": [
  {
   "cell_type": "markdown",
   "metadata": {},
   "source": [
    "## Cicuit Depth Issues with Controlled Mixer Hamiltonians\n",
    "***\n",
    "\n",
    " In order to transition between feasible spaces, controlled mixer hamiltonians are employed. These hamiltonians use multi-qubit control gates such as toffoli gate. In qiskit, the toffoli gate only uses 2 control bits with an option for ancilla qubit. However, if the user requires >2 control qubits, then they can use the multi-contorl toffoli gate(mct). This notebook will invtestigate how the mct behaves as the number of controlled bits increases."
   ]
  },
  {
   "cell_type": "code",
   "execution_count": 1,
   "metadata": {},
   "outputs": [],
   "source": [
    "from qiskit import *\n",
    "import networkx as nx \n",
    "import numpy as np\n",
    "import matplotlib.pyplot as plt \n",
    "from   matplotlib import cm\n",
    "from   matplotlib.ticker import LinearLocator, FormatStrFormatter"
   ]
  },
  {
   "cell_type": "markdown",
   "metadata": {},
   "source": [
    "### Investigate the circuit depth for a mct as degree of a vertex increases:\n",
    "***\n",
    "\n"
   ]
  },
  {
   "cell_type": "code",
   "execution_count": 2,
   "metadata": {},
   "outputs": [
    {
     "name": "stdout",
     "output_type": "stream",
     "text": [
      "{0: [1]}\n",
      "{0: [1, 2]}\n",
      "{0: [1, 2, 3]}\n",
      "{0: [1, 2, 3, 4]}\n",
      "{0: [1, 2, 3, 4, 5]}\n",
      "{0: [1, 2, 3, 4, 5, 6]}\n",
      "{0: [1, 2, 3, 4, 5, 6, 7]}\n",
      "{0: [1, 2, 3, 4, 5, 6, 7, 8]}\n",
      "{0: [1, 2, 3, 4, 5, 6, 7, 8, 9]}\n",
      "{0: [1, 2, 3, 4, 5, 6, 7, 8, 9, 10]}\n"
     ]
    }
   ],
   "source": [
    "V=[0]\n",
    "E=[]\n",
    "\n",
    "depth = []\n",
    "density = []\n",
    "\n",
    "for i in range(1,11):\n",
    "    n     = i\n",
    "    V.append(n)\n",
    "    E.append((0,n,1.0))\n",
    "    \n",
    "\n",
    "    G = nx.Graph()\n",
    "    G.add_nodes_from(V)\n",
    "    G.add_weighted_edges_from(E)\n",
    "    \n",
    "    density.append(nx.density(G))\n",
    "    \n",
    "    qc = QuantumCircuit()\n",
    "    qr = QuantumRegister(len(G.nodes)+ 1, 'qubit')\n",
    "    qc.add_register( qr )\n",
    "    \n",
    "    ancilla_qubit = qr[len(qr)-1]\n",
    "    theta = 2.222222\n",
    "    \n",
    "    bfs = dict(nx.traversal.bfs_successors(G,0,depth_limit=1))\n",
    "    print(bfs)\n",
    "    control_bits = list(qr[nodes] for nodes in bfs[0])\n",
    "    qc.mct(control_bits,ancilla_qubit,None,mode=\"noancilla\")\n",
    "#     qc.draw(output='mpl')\n",
    "    depth.append(qc.depth())"
   ]
  },
  {
   "cell_type": "code",
   "execution_count": 3,
   "metadata": {},
   "outputs": [
    {
     "data": {
      "image/png": "[encoded data removed]",
      "text/plain": [
       "<Figure size 432x288 with 1 Axes>"
      ]
     },
     "metadata": {
      "needs_background": "light"
     },
     "output_type": "display_data"
    }
   ],
   "source": [
    "%matplotlib inline\n",
    "_ = plt.plot(range(1,11), depth, 'o-')"
   ]
  },
  {
   "cell_type": "code",
   "execution_count": 4,
   "metadata": {},
   "outputs": [
    {
     "name": "stdout",
     "output_type": "stream",
     "text": [
      "[1, 1, 36, 76, 156, 316, 636, 1276, 2556, 5116]\n"
     ]
    }
   ],
   "source": [
    "print(depth)"
   ]
  },
  {
   "cell_type": "markdown",
   "metadata": {},
   "source": [
    "From the graph above, the increase of the circuit depth increases exponentially as the number of controlled qubits increases from 1 to approximately 5000. This would greatly reduce the coherence of the entire circuit hence we highly advise users to avoid using the circuit with the mct gate."
   ]
  },
  {
   "cell_type": "markdown",
   "metadata": {},
   "source": [
    "### Using X rotation Hamiltonians only:\n",
    "\n",
    "***"
   ]
  },
  {
   "cell_type": "code",
   "execution_count": 5,
   "metadata": {},
   "outputs": [],
   "source": [
    "V=[0]\n",
    "E=[]\n",
    "\n",
    "depth = []\n",
    "\n",
    "for i in range(1,11):\n",
    "    n     = i\n",
    "    V.append(n)\n",
    "    E.append((0,n,1.0))\n",
    "    \n",
    "\n",
    "    G = nx.Graph()\n",
    "    G.add_nodes_from(V)\n",
    "    G.add_weighted_edges_from(E)\n",
    "\n",
    "    qc = QuantumCircuit()\n",
    "    qr = QuantumRegister(len(G.nodes), 'qubit')\n",
    "    qc.add_register( qr )\n",
    "    \n",
    "    theta = 2.222222\n",
    "    \n",
    "    for n in range(len(G.nodes)):\n",
    "        qc.rx(theta, n)\n",
    "        \n",
    "    depth.append(qc.depth())"
   ]
  },
  {
   "cell_type": "code",
   "execution_count": 6,
   "metadata": {},
   "outputs": [
    {
     "data": {
      "image/png": "[encoded data removed]",
      "text/plain": [
       "<Figure size 432x288 with 1 Axes>"
      ]
     },
     "metadata": {
      "needs_background": "light"
     },
     "output_type": "display_data"
    }
   ],
   "source": [
    "%matplotlib inline\n",
    "_ = plt.plot(range(1,11), depth, 'o-')"
   ]
  },
  {
   "cell_type": "markdown",
   "metadata": {},
   "source": [
    "The circuit depth remains as 1 throughout when X rotation gates are used, this because all of these gates can be applied in parallel, thus keeping the circuit depth as 1 for all values of n, the number of qubits. This implies that it is better for the circuit to transition between all possible subspaces instead of transitioning between feasible subspaces determined by the controlled hamiltonians."
   ]
  },
  {
   "cell_type": "markdown",
   "metadata": {},
   "source": [
    "### Sparse VS Dense Graphs for Controlled Mixer Hamiltonians: \n",
    "***"
   ]
  },
  {
   "cell_type": "code",
   "execution_count": 7,
   "metadata": {},
   "outputs": [
    {
     "data": {
      "image/png": "[encoded data removed]",
      "text/plain": [
       "<Figure size 432x288 with 1 Axes>"
      ]
     },
     "metadata": {
      "needs_background": "light"
     },
     "output_type": "display_data"
    }
   ],
   "source": [
    "import scipy.sparse\n",
    "\n",
    "depth = []\n",
    "\n",
    "#Max Degree = 2\n",
    "for i in range(1,11):\n",
    "    A = scipy.sparse.eye(11,11,i)\n",
    "    G = nx.from_scipy_sparse_matrix(A)\n",
    "\n",
    "    qc = QuantumCircuit()\n",
    "    qr = QuantumRegister(len(G.nodes) + 1, 'qubit')\n",
    "    qc.add_register( qr )\n",
    "    \n",
    "    ancilla_qubit = qr[len(qr)-1]\n",
    "    theta = 2.222222\n",
    "    \n",
    "    for n in G.nodes:\n",
    "            bfs = dict(nx.traversal.bfs_successors(G,n,depth_limit=1))\n",
    "            for source in bfs:\n",
    "                control_bits = list(qr[int(i)] for i in bfs[source])\n",
    "                qc.mct(control_bits,ancilla_qubit,None,mode=\"noancilla\")\n",
    "                qc.mcrx(theta, [ancilla_qubit], qr[int(source)])\n",
    "                qc.mct(control_bits,ancilla_qubit,None,mode='noancilla')\n",
    "                qc.barrier()\n",
    "        \n",
    "    depth.append(qc.depth())\n",
    "    \n",
    "    \n",
    "%matplotlib inline\n",
    "_ = plt.plot(range(1,11), depth, 'o-')"
   ]
  },
  {
   "cell_type": "markdown",
   "metadata": {},
   "source": [
    "### Dense Graphs:"
   ]
  },
  {
   "cell_type": "code",
   "execution_count": 8,
   "metadata": {},
   "outputs": [],
   "source": [
    "E = []\n",
    "V = [0]\n",
    "depth = []\n",
    "\n",
    "for i in range(1,11):\n",
    "    n     = i\n",
    "    V.append(n)\n",
    "\n",
    "    for e in range(i):\n",
    "        E.append((i,e,1.0))\n",
    "    G = nx.Graph()\n",
    "    G.add_nodes_from(V)\n",
    "    G.add_weighted_edges_from(E)\n",
    "    \n",
    "    qc = QuantumCircuit()\n",
    "    qr = QuantumRegister(len(G.nodes) + 1, 'qubit')\n",
    "    qc.add_register( qr )\n",
    "    \n",
    "    ancilla_qubit = qr[len(qr)-1]\n",
    "    theta = 2.222222\n",
    "    \n",
    "    for n in G.nodes:\n",
    "            bfs = dict(nx.traversal.bfs_successors(G,n,depth_limit=1))\n",
    "            for source in bfs:\n",
    "                control_bits = list(qr[int(i)] for i in bfs[source])\n",
    "                qc.mct(control_bits,ancilla_qubit,None,mode=\"noancilla\")\n",
    "                qc.mcrx(theta, [ancilla_qubit], qr[int(source)])\n",
    "                qc.mct(control_bits,ancilla_qubit,None,mode='noancilla')\n",
    "                qc.barrier()\n",
    "        \n",
    "    depth.append(qc.depth())\n",
    "    "
   ]
  },
  {
   "cell_type": "code",
   "execution_count": 9,
   "metadata": {},
   "outputs": [
    {
     "data": {
      "image/png": "[encoded data removed]",
      "text/plain": [
       "<Figure size 432x288 with 1 Axes>"
      ]
     },
     "metadata": {
      "needs_background": "light"
     },
     "output_type": "display_data"
    }
   ],
   "source": [
    "%matplotlib inline\n",
    "_ = plt.plot(range(1,11), depth, 'o-')"
   ]
  },
  {
   "cell_type": "markdown",
   "metadata": {},
   "source": [
    " Sparse graph tends to keep the circuit depth lower as compared to dense graphs, this is due to the fact that the sparse graph have disjoint sets and each vertex has a degree lower or equal to 2. Hence able to keep the depth of the circuit constant as the mixer gates can be more 'parallel' as compared to the dense graph.\n",
    "<br>\n",
    "There is a need to find better alternatives that can be used as a toffoli gate but with a lower gate count as comapred to qiskit's native mct gate"
   ]
  },
  {
   "cell_type": "code",
   "execution_count": 10,
   "metadata": {},
   "outputs": [
    {
     "name": "stdout",
     "output_type": "stream",
     "text": [
      "[6, 9, 292, 765, 1878, 4431, 10184, 22977, 51130, 112563]\n"
     ]
    }
   ],
   "source": [
    "print(depth)"
   ]
  },
  {
   "cell_type": "markdown",
   "metadata": {},
   "source": [
    "QAOAToolkit offers users with a pre-defined function called *controlledXMixer()* that implements $H_f =  \\Lambda_{f(y)} (e^ {−iβX})$ so that the mixer hamiltonians limits the hilbert space within all feasible states since not all states are possible in certain problems. This methods also tries to reduce the circuit depth, however, at higher  values the numbers are still high as such users are advised to take note of the maximum degree of the graph that they are using:"
   ]
  },
  {
   "cell_type": "code",
   "execution_count": 11,
   "metadata": {},
   "outputs": [],
   "source": [
    "import os \n",
    "os.path.sys.path.append('../hamiltonian_engine/')\n",
    "from hamiltonian import mixer_hamiltonian as mix_ham\n",
    "\n",
    "mixer_ham = mix_ham()"
   ]
  },
  {
   "cell_type": "code",
   "execution_count": 12,
   "metadata": {},
   "outputs": [],
   "source": [
    "E = []\n",
    "V = [0]\n",
    "depth = []\n",
    "\n",
    "for i in range(1,11):\n",
    "    n     = i\n",
    "    V.append(n)\n",
    "\n",
    "    for e in range(i):\n",
    "        E.append((i,e,1.0))\n",
    "    G = nx.Graph()\n",
    "    G.add_nodes_from(V)\n",
    "    G.add_weighted_edges_from(E)\n",
    "    \n",
    "    \n",
    "    ancilla_qubit = qr[len(qr)-1]\n",
    "    theta = 2.222222\n",
    "    \n",
    "    mixer_ham.controlledXMixer([theta], 1, G, False)\n",
    "    qc = mixer_ham.get_quantumCircuit()\n",
    "        \n",
    "    depth.append(qc.depth())"
   ]
  },
  {
   "cell_type": "code",
   "execution_count": 13,
   "metadata": {},
   "outputs": [
    {
     "data": {
      "image/png": "[encoded data removed]",
      "text/plain": [
       "<Figure size 432x288 with 1 Axes>"
      ]
     },
     "metadata": {
      "needs_background": "light"
     },
     "output_type": "display_data"
    }
   ],
   "source": [
    "%matplotlib inline\n",
    "_ = plt.plot(range(1,11), depth, 'o-')"
   ]
  },
  {
   "cell_type": "code",
   "execution_count": 14,
   "metadata": {},
   "outputs": [
    {
     "name": "stdout",
     "output_type": "stream",
     "text": [
      "[2, 15, 51, 143, 363, 871, 2019, 4575, 10203, 22487]\n"
     ]
    }
   ],
   "source": [
    "print(depth)"
   ]
  },
  {
   "cell_type": "code",
   "execution_count": null,
   "metadata": {},
   "outputs": [],
   "source": []
  }
 ],
 "metadata": {
  "kernelspec": {
   "display_name": "Python 3",
   "language": "python",
   "name": "python3"
  },
  "language_info": {
   "codemirror_mode": {
    "name": "ipython",
    "version": 3
   },
   "file_extension": ".py",
   "mimetype": "text/x-python",
   "name": "python",
   "nbconvert_exporter": "python",
   "pygments_lexer": "ipython3",
   "version": "3.7.3"
  }
 },
 "nbformat": 4,
 "nbformat_minor": 2
}
