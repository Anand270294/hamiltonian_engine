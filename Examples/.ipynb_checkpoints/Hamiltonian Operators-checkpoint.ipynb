{
 "cells": [
  {
   "cell_type": "code",
   "execution_count": 1,
   "metadata": {},
   "outputs": [],
   "source": [
    "import os \n",
    "os.path.sys.path.append('../hamiltonian_engine/')\n",
    "from hamiltonian import phase_hamiltonian as phs_ham\n",
    "from hamiltonian import mixer_hamiltonian as mix_ham\n",
    "from expectation_value import expectation_value as ex_vle\n",
    "from sympy.abc import I"
   ]
  },
  {
   "cell_type": "code",
   "execution_count": 2,
   "metadata": {},
   "outputs": [
    {
     "data": {
      "text/latex": [
       "$\\displaystyle x_{1} + x_{2} + x_{3}$"
      ],
      "text/plain": [
       "x_1 + x_2 + x_3"
      ]
     },
     "execution_count": 2,
     "metadata": {},
     "output_type": "execute_result"
    }
   ],
   "source": [
    "obj1 = 'x_1 + x_2 + x_3'\n",
    "v1 = ['x_1', 'x_2', 'x_3']\n",
    "\n",
    "p1 = phs_ham(obj1, v1)\n",
    "p1.get_objFun()"
   ]
  },
  {
   "cell_type": "code",
   "execution_count": 3,
   "metadata": {},
   "outputs": [
    {
     "data": {
      "text/latex": [
       "$\\displaystyle x_{u} x_{v}$"
      ],
      "text/plain": [
       "x_u*x_v"
      ]
     },
     "execution_count": 3,
     "metadata": {},
     "output_type": "execute_result"
    }
   ],
   "source": [
    "obj2 = 'x_u*x_v'\n",
    "v2 = ['x_v', 'x_u']\n",
    "\n",
    "p2 = phs_ham(obj2, v2)\n",
    "p2.get_objFun()"
   ]
  },
  {
   "cell_type": "code",
   "execution_count": 4,
   "metadata": {},
   "outputs": [
    {
     "data": {
      "text/latex": [
       "$\\displaystyle - x_{1} - x_{2} - x_{3} + 1$"
      ],
      "text/plain": [
       "-x_1 - x_2 - x_3 + 1"
      ]
     },
     "execution_count": 4,
     "metadata": {},
     "output_type": "execute_result"
    }
   ],
   "source": [
    "p3 = ~p1\n",
    "p3.get_objFun()"
   ]
  },
  {
   "cell_type": "code",
   "execution_count": 5,
   "metadata": {},
   "outputs": [
    {
     "data": {
      "text/latex": [
       "$\\displaystyle 0.5 Z_{1} + 0.5 Z_{2} + 0.5 Z_{3} - 0.5$"
      ],
      "text/plain": [
       "0.5*Z_1 + 0.5*Z_2 + 0.5*Z_3 - 0.5"
      ]
     },
     "execution_count": 5,
     "metadata": {},
     "output_type": "execute_result"
    }
   ],
   "source": [
    "p3.Hamify(global_phse=False)\n",
    "p3.get_pHamil()"
   ]
  },
  {
   "cell_type": "code",
   "execution_count": 6,
   "metadata": {},
   "outputs": [
    {
     "data": {
      "text/latex": [
       "$\\displaystyle - 0.5 Z_{1} - 0.5 Z_{2} - 0.5 Z_{3} + 1.5$"
      ],
      "text/plain": [
       "-0.5*Z_1 - 0.5*Z_2 - 0.5*Z_3 + 1.5"
      ]
     },
     "execution_count": 6,
     "metadata": {},
     "output_type": "execute_result"
    }
   ],
   "source": [
    "p1.Hamify(global_phse=False)\n",
    "p1.get_pHamil()"
   ]
  },
  {
   "cell_type": "code",
   "execution_count": 7,
   "metadata": {},
   "outputs": [
    {
     "data": {
      "text/latex": [
       "$\\displaystyle 0.25 Z_{u} Z_{v} - 0.25 Z_{u} - 0.25 Z_{v}$"
      ],
      "text/plain": [
       "0.25*Z_u*Z_v - 0.25*Z_u - 0.25*Z_v"
      ]
     },
     "execution_count": 7,
     "metadata": {},
     "output_type": "execute_result"
    }
   ],
   "source": [
    "p2.Hamify()\n",
    "p2.get_pHamil()"
   ]
  },
  {
   "cell_type": "code",
   "execution_count": 11,
   "metadata": {},
   "outputs": [
    {
     "data": {
      "text/latex": [
       "$\\displaystyle x_{u} x_{v} \\left(x_{1} + x_{2} + x_{3}\\right)$"
      ],
      "text/plain": [
       "x_u*x_v*(x_1 + x_2 + x_3)"
      ]
     },
     "execution_count": 11,
     "metadata": {},
     "output_type": "execute_result"
    }
   ],
   "source": [
    "p4 = p2 * p1\n",
    "p4.get_objFun()"
   ]
  },
  {
   "cell_type": "code",
   "execution_count": 12,
   "metadata": {},
   "outputs": [
    {
     "data": {
      "text/latex": [
       "$\\displaystyle - 0.125 Z_{1} Z_{3} Z_{v} + 0.125 Z_{1} Z_{3} + 0.125 Z_{1} Z_{v} - 0.125 Z_{1} - 0.125 Z_{2} Z_{3} Z_{v} + 0.125 Z_{2} Z_{3} + 0.125 Z_{2} Z_{v} - 0.125 Z_{2} - 0.125 Z_{3} Z_{u} Z_{v} + 0.125 Z_{3} Z_{u} + 0.375 Z_{3} Z_{v} - 0.375 Z_{3} + 0.125 Z_{u} Z_{v} - 0.125 Z_{u} - 0.375 Z_{v} + 0.375$"
      ],
      "text/plain": [
       "-0.125*Z_1*Z_3*Z_v + 0.125*Z_1*Z_3 + 0.125*Z_1*Z_v - 0.125*Z_1 - 0.125*Z_2*Z_3*Z_v + 0.125*Z_2*Z_3 + 0.125*Z_2*Z_v - 0.125*Z_2 - 0.125*Z_3*Z_u*Z_v + 0.125*Z_3*Z_u + 0.375*Z_3*Z_v - 0.375*Z_3 + 0.125*Z_u*Z_v - 0.125*Z_u - 0.375*Z_v + 0.375"
      ]
     },
     "execution_count": 12,
     "metadata": {},
     "output_type": "execute_result"
    }
   ],
   "source": [
    "p4.Hamify(global_phse=False)\n",
    "p4.get_pHamil()"
   ]
  },
  {
   "cell_type": "code",
   "execution_count": 14,
   "metadata": {},
   "outputs": [
    {
     "data": {
      "text/latex": [
       "$\\displaystyle 3.0 x_{u} x_{v}$"
      ],
      "text/plain": [
       "3.0*x_u*x_v"
      ]
     },
     "execution_count": 14,
     "metadata": {},
     "output_type": "execute_result"
    }
   ],
   "source": [
    "p5 = p2 * 3\n",
    "p5.get_objFun()"
   ]
  },
  {
   "cell_type": "code",
   "execution_count": 16,
   "metadata": {},
   "outputs": [
    {
     "data": {
      "text/latex": [
       "$\\displaystyle 0.75 Z_{u} Z_{v} - 0.75 Z_{u} - 0.75 Z_{v} + 0.75$"
      ],
      "text/plain": [
       "0.75*Z_u*Z_v - 0.75*Z_u - 0.75*Z_v + 0.75"
      ]
     },
     "execution_count": 16,
     "metadata": {},
     "output_type": "execute_result"
    }
   ],
   "source": [
    "p5.Hamify(global_phse=False)\n",
    "p5.get_pHamil()"
   ]
  },
  {
   "cell_type": "code",
   "execution_count": 17,
   "metadata": {},
   "outputs": [
    {
     "data": {
      "text/latex": [
       "$\\displaystyle x_{1} + x_{2} + x_{3} - x_{u} x_{v} \\left(x_{1} + x_{2} + x_{3}\\right) + x_{u} x_{v}$"
      ],
      "text/plain": [
       "x_1 + x_2 + x_3 - x_u*x_v*(x_1 + x_2 + x_3) + x_u*x_v"
      ]
     },
     "execution_count": 17,
     "metadata": {},
     "output_type": "execute_result"
    }
   ],
   "source": [
    "p6 = p1 + p2\n",
    "p6.get_objFun()"
   ]
  },
  {
   "cell_type": "code",
   "execution_count": 18,
   "metadata": {},
   "outputs": [
    {
     "data": {
      "text/latex": [
       "$\\displaystyle 0.125 Z_{1} Z_{3} Z_{v} - 0.125 Z_{1} Z_{3} - 0.125 Z_{1} Z_{v} - 0.375 Z_{1} + 0.125 Z_{2} Z_{3} Z_{v} - 0.125 Z_{2} Z_{3} - 0.125 Z_{2} Z_{v} - 0.375 Z_{2} + 0.125 Z_{3} Z_{u} Z_{v} - 0.125 Z_{3} Z_{u} - 0.125 Z_{3} Z_{v} + 0.125 Z_{3} - 0.125 Z_{u} Z_{v} - 0.375 Z_{u} + 0.125 Z_{v} + 1.375$"
      ],
      "text/plain": [
       "0.125*Z_1*Z_3*Z_v - 0.125*Z_1*Z_3 - 0.125*Z_1*Z_v - 0.375*Z_1 + 0.125*Z_2*Z_3*Z_v - 0.125*Z_2*Z_3 - 0.125*Z_2*Z_v - 0.375*Z_2 + 0.125*Z_3*Z_u*Z_v - 0.125*Z_3*Z_u - 0.125*Z_3*Z_v + 0.125*Z_3 - 0.125*Z_u*Z_v - 0.375*Z_u + 0.125*Z_v + 1.375"
      ]
     },
     "execution_count": 18,
     "metadata": {},
     "output_type": "execute_result"
    }
   ],
   "source": [
    "p6.Hamify(global_phse=False)\n",
    "p6.get_pHamil()"
   ]
  },
  {
   "cell_type": "code",
   "execution_count": 8,
   "metadata": {},
   "outputs": [
    {
     "name": "stderr",
     "output_type": "stream",
     "text": [
      "/home/anand/anaconda3/lib/python3.7/site-packages/networkx/drawing/nx_pylab.py:579: MatplotlibDeprecationWarning: \n",
      "The iterable function was deprecated in Matplotlib 3.1 and will be removed in 3.3. Use np.iterable instead.\n",
      "  if not cb.iterable(width):\n"
     ]
    },
    {
     "data": {
      "text/plain": [
       "{(0, 1): Text(0.654508480212244, 0.4755283023511464, '1.0'),\n",
       " (0, 2): Text(0.09549145273252935, 0.2938926212887637, '1.0'),\n",
       " (1, 2): Text(-0.2500000670552266, 0.7694208997980517, '1.0'),\n",
       " (2, 3): Text(-0.8090170349302954, -6.55651103964594e-08, '1.0'),\n",
       " (2, 4): Text(-0.24999999254941926, -0.18163562741820138, '1.0'),\n",
       " (3, 4): Text(-0.24999993294477343, -0.7694209117189807, '1.0')}"
      ]
     },
     "execution_count": 8,
     "metadata": {},
     "output_type": "execute_result"
    },
    {
     "data": {
      "image/png": "[encoded data removed]",
      "text/plain": [
       "<Figure size 432x288 with 1 Axes>"
      ]
     },
     "metadata": {},
     "output_type": "display_data"
    }
   ],
   "source": [
    "import numpy as np\n",
    "import networkx as nx \n",
    "import matplotlib.pyplot as plt \n",
    "from   matplotlib import cm\n",
    "from   matplotlib.ticker import LinearLocator, FormatStrFormatter\n",
    "\n",
    "#Generate a graph here using networkx\n",
    "# Number of Nodes\n",
    "n     = 3\n",
    "V     = np.arange(0,n,1)\n",
    "E     =[(0,1,1.0),(0,2,1.0),(1,2,1.0)] \n",
    "G     = nx.Graph()\n",
    "G.add_nodes_from(V)\n",
    "G.add_weighted_edges_from(E)\n",
    "\n",
    "fig = plt.figure()\n",
    "ax1 = plt.subplot2grid((1, 1), (0, 0))\n",
    "labels = nx.get_edge_attributes(G,'weight')\n",
    "\n",
    "nx.draw(G,with_labels=True, pos=nx.circular_layout(G), node_color='y', edge_color='g')\n",
    "nx.draw_networkx_edge_labels(G,nx.circular_layout(G),edge_labels=labels)"
   ]
  },
  {
   "cell_type": "code",
   "execution_count": 9,
   "metadata": {},
   "outputs": [
    {
     "data": {
      "image/png": "[encoded data removed]",
      "text/plain": [
       "<Figure size 1683.19x686.28 with 1 Axes>"
      ]
     },
     "execution_count": 9,
     "metadata": {},
     "output_type": "execute_result"
    }
   ],
   "source": [
    "p2.perEdgeMap([0.1], 1, G, False, True)\n",
    "circuit2 = p2.get_quantumCircuit()\n",
    "circuit2.draw(output='mpl')"
   ]
  },
  {
   "cell_type": "code",
   "execution_count": 10,
   "metadata": {},
   "outputs": [
    {
     "ename": "ValueError",
     "evalue": "tuple.index(x): x not in tuple",
     "output_type": "error",
     "traceback": [
      "\u001b[0;31m---------------------------------------------------------------------------\u001b[0m",
      "\u001b[0;31mValueError\u001b[0m                                Traceback (most recent call last)",
      "\u001b[0;32m<ipython-input-10-be8ce765b3ce>\u001b[0m in \u001b[0;36m<module>\u001b[0;34m\u001b[0m\n\u001b[0;32m----> 1\u001b[0;31m \u001b[0mp1\u001b[0m\u001b[0;34m.\u001b[0m\u001b[0mperQubitMap\u001b[0m\u001b[0;34m(\u001b[0m\u001b[0;34m[\u001b[0m\u001b[0;36m0.1\u001b[0m\u001b[0;34m]\u001b[0m\u001b[0;34m,\u001b[0m \u001b[0;36m1\u001b[0m\u001b[0;34m,\u001b[0m \u001b[0;32mFalse\u001b[0m\u001b[0;34m,\u001b[0m \u001b[0;32mFalse\u001b[0m\u001b[0;34m)\u001b[0m\u001b[0;34m\u001b[0m\u001b[0;34m\u001b[0m\u001b[0m\n\u001b[0m\u001b[1;32m      2\u001b[0m \u001b[0mcir1\u001b[0m \u001b[0;34m=\u001b[0m \u001b[0mp1\u001b[0m\u001b[0;34m.\u001b[0m\u001b[0mget_quantumCircuit\u001b[0m\u001b[0;34m(\u001b[0m\u001b[0;34m)\u001b[0m\u001b[0;34m\u001b[0m\u001b[0;34m\u001b[0m\u001b[0m\n\u001b[1;32m      3\u001b[0m \u001b[0mcir1\u001b[0m\u001b[0;34m.\u001b[0m\u001b[0mdraw\u001b[0m\u001b[0;34m(\u001b[0m\u001b[0moutput\u001b[0m\u001b[0;34m=\u001b[0m\u001b[0;34m'mpl'\u001b[0m\u001b[0;34m)\u001b[0m\u001b[0;34m\u001b[0m\u001b[0;34m\u001b[0m\u001b[0m\n",
      "\u001b[0;32m~/Desktop/hamiltonian_engine/hamiltonian_engine/hamiltonian.py\u001b[0m in \u001b[0;36mperQubitMap\u001b[0;34m(self, gamma, p, barrier, initial_Hadamard)\u001b[0m\n\u001b[1;32m    236\u001b[0m                 \u001b[0mcir\u001b[0m\u001b[0;34m.\u001b[0m\u001b[0mbarrier\u001b[0m\u001b[0;34m(\u001b[0m\u001b[0;34m)\u001b[0m\u001b[0;34m\u001b[0m\u001b[0;34m\u001b[0m\u001b[0m\n\u001b[1;32m    237\u001b[0m \u001b[0;34m\u001b[0m\u001b[0m\n\u001b[0;32m--> 238\u001b[0;31m             \u001b[0mcir\u001b[0m \u001b[0;34m+=\u001b[0m \u001b[0mcir_build\u001b[0m\u001b[0;34m.\u001b[0m\u001b[0mcircuit_builder\u001b[0m\u001b[0;34m.\u001b[0m\u001b[0mgenerate_Zcircuit\u001b[0m\u001b[0;34m(\u001b[0m\u001b[0mself\u001b[0m\u001b[0;34m.\u001b[0m\u001b[0mquanCir_list\u001b[0m\u001b[0;34m,\u001b[0m \u001b[0mgamma\u001b[0m\u001b[0;34m[\u001b[0m\u001b[0mi\u001b[0m\u001b[0;34m]\u001b[0m\u001b[0;34m,\u001b[0m \u001b[0mself\u001b[0m\u001b[0;34m.\u001b[0m\u001b[0mqubit_map\u001b[0m\u001b[0;34m)\u001b[0m\u001b[0;34m\u001b[0m\u001b[0;34m\u001b[0m\u001b[0m\n\u001b[0m\u001b[1;32m    239\u001b[0m \u001b[0;34m\u001b[0m\u001b[0m\n\u001b[1;32m    240\u001b[0m             \u001b[0;32mif\u001b[0m \u001b[0mbarrier\u001b[0m \u001b[0;34m==\u001b[0m \u001b[0;32mTrue\u001b[0m\u001b[0;34m:\u001b[0m\u001b[0;34m\u001b[0m\u001b[0;34m\u001b[0m\u001b[0m\n",
      "\u001b[0;32m~/Desktop/hamiltonian_engine/hamiltonian_engine/utils/circuit_builder.py\u001b[0m in \u001b[0;36mgenerate_Zcircuit\u001b[0;34m(quanCir_list, gamma, qubit_map, edge)\u001b[0m\n\u001b[1;32m     50\u001b[0m                         \u001b[0mqcircuit\u001b[0m\u001b[0;34m.\u001b[0m\u001b[0mcx\u001b[0m\u001b[0;34m(\u001b[0m\u001b[0mindices\u001b[0m\u001b[0;34m[\u001b[0m\u001b[0mi\u001b[0m\u001b[0;34m-\u001b[0m\u001b[0;36m1\u001b[0m\u001b[0;34m]\u001b[0m\u001b[0;34m,\u001b[0m \u001b[0mindices\u001b[0m\u001b[0;34m[\u001b[0m\u001b[0mi\u001b[0m\u001b[0;34m]\u001b[0m\u001b[0;34m)\u001b[0m\u001b[0;34m\u001b[0m\u001b[0;34m\u001b[0m\u001b[0m\n\u001b[1;32m     51\u001b[0m                 \u001b[0;32melse\u001b[0m\u001b[0;34m:\u001b[0m\u001b[0;34m\u001b[0m\u001b[0;34m\u001b[0m\u001b[0m\n\u001b[0;32m---> 52\u001b[0;31m                     \u001b[0mqcircuit\u001b[0m\u001b[0;34m.\u001b[0m\u001b[0mrz\u001b[0m\u001b[0;34m(\u001b[0m\u001b[0mgamma\u001b[0m\u001b[0;34m,\u001b[0m \u001b[0msub_cir\u001b[0m\u001b[0;34m.\u001b[0m\u001b[0mindex\u001b[0m\u001b[0;34m(\u001b[0m\u001b[0;36m1\u001b[0m\u001b[0;34m)\u001b[0m\u001b[0;34m)\u001b[0m\u001b[0;34m\u001b[0m\u001b[0;34m\u001b[0m\u001b[0m\n\u001b[0m\u001b[1;32m     53\u001b[0m             \u001b[0;32melse\u001b[0m\u001b[0;34m:\u001b[0m\u001b[0;34m\u001b[0m\u001b[0;34m\u001b[0m\u001b[0m\n\u001b[1;32m     54\u001b[0m                 \u001b[0;32mif\u001b[0m \u001b[0msum\u001b[0m\u001b[0;34m(\u001b[0m\u001b[0msub_cir\u001b[0m\u001b[0;34m)\u001b[0m \u001b[0;34m>\u001b[0m \u001b[0;36m1\u001b[0m\u001b[0;34m:\u001b[0m\u001b[0;34m\u001b[0m\u001b[0;34m\u001b[0m\u001b[0m\n",
      "\u001b[0;31mValueError\u001b[0m: tuple.index(x): x not in tuple"
     ]
    }
   ],
   "source": [
    "p1.perQubitMap([0.1], 1, False, False)\n",
    "cir1 = p1.get_quantumCircuit()\n",
    "cir1.draw(output='mpl')"
   ]
  },
  {
   "cell_type": "code",
   "execution_count": null,
   "metadata": {},
   "outputs": [],
   "source": [
    "p3 = p1 * p2\n",
    "p3.get_objFun()"
   ]
  },
  {
   "cell_type": "code",
   "execution_count": null,
   "metadata": {},
   "outputs": [],
   "source": [
    "p3.Hamify()\n",
    "p3.get_pHamil()"
   ]
  },
  {
   "cell_type": "code",
   "execution_count": null,
   "metadata": {},
   "outputs": [],
   "source": []
  }
 ],
 "metadata": {
  "kernelspec": {
   "display_name": "Python 3",
   "language": "python",
   "name": "python3"
  },
  "language_info": {
   "codemirror_mode": {
    "name": "ipython",
    "version": 3
   },
   "file_extension": ".py",
   "mimetype": "text/x-python",
   "name": "python",
   "nbconvert_exporter": "python",
   "pygments_lexer": "ipython3",
   "version": "3.7.3"
  }
 },
 "nbformat": 4,
 "nbformat_minor": 2
}
