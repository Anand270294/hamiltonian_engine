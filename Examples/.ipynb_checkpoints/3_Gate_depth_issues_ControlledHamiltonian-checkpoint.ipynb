{
 "cells": [
  {
   "cell_type": "markdown",
   "metadata": {},
   "source": [
    "## Cicuit Depth Issues with Controlled Mixer Hamiltonians\n",
    "***\n",
    "\n",
    " In order to transition between feasible spaces, controlled mixer hamiltonians are employed. These hamiltonians use multi-qubit control gates such as toffoli gate. In qiskit, the toffoli gate only uses 2 control bits with an option for ancilla qubit. However, if the user requires >2 control qubits, then they can use the multi-contorl toffoli gate(mct). This notebook will invtestigate how the mct behaves as the number of controlled bits increases."
   ]
  },
  {
   "cell_type": "code",
   "execution_count": 1,
   "metadata": {},
   "outputs": [],
   "source": [
    "from qiskit import *\n",
    "import networkx as nx \n",
    "import numpy as np\n",
    "import matplotlib.pyplot as plt \n",
    "from   matplotlib import cm\n",
    "from   matplotlib.ticker import LinearLocator, FormatStrFormatter"
   ]
  },
  {
   "cell_type": "markdown",
   "metadata": {},
   "source": [
    "### Investigate the circuit depth for a mct as degree of a vertex increases:\n",
    "***\n",
    "\n"
   ]
  },
  {
   "cell_type": "code",
   "execution_count": 2,
   "metadata": {},
   "outputs": [
    {
     "name": "stdout",
     "output_type": "stream",
     "text": [
      "{0: [1]}\n",
      "{0: [1, 2]}\n",
      "{0: [1, 2, 3]}\n",
      "{0: [1, 2, 3, 4]}\n",
      "{0: [1, 2, 3, 4, 5]}\n",
      "{0: [1, 2, 3, 4, 5, 6]}\n",
      "{0: [1, 2, 3, 4, 5, 6, 7]}\n",
      "{0: [1, 2, 3, 4, 5, 6, 7, 8]}\n",
      "{0: [1, 2, 3, 4, 5, 6, 7, 8, 9]}\n",
      "{0: [1, 2, 3, 4, 5, 6, 7, 8, 9, 10]}\n"
     ]
    }
   ],
   "source": [
    "V=[0]\n",
    "E=[]\n",
    "\n",
    "depth = []\n",
    "density = []\n",
    "\n",
    "for i in range(1,11):\n",
    "    n     = i\n",
    "    V.append(n)\n",
    "    E.append((0,n,1.0))\n",
    "    \n",
    "\n",
    "    G = nx.Graph()\n",
    "    G.add_nodes_from(V)\n",
    "    G.add_weighted_edges_from(E)\n",
    "    \n",
    "    density.append(nx.density(G))\n",
    "    \n",
    "    qc = QuantumCircuit()\n",
    "    qr = QuantumRegister(len(G.nodes)+ 1, 'qubit')\n",
    "    qc.add_register( qr )\n",
    "    \n",
    "    ancilla_qubit = qr[len(qr)-1]\n",
    "    theta = 2.222222\n",
    "    \n",
    "    bfs = dict(nx.traversal.bfs_successors(G,0,depth_limit=1))\n",
    "    print(bfs)\n",
    "    control_bits = list(qr[nodes] for nodes in bfs[0])\n",
    "    qc.mct(control_bits,ancilla_qubit,None,mode=\"noancilla\")\n",
    "#     qc.draw(output='mpl')\n",
    "    depth.append(qc.depth())"
   ]
  },
  {
   "cell_type": "code",
   "execution_count": 3,
   "metadata": {},
   "outputs": [
    {
     "data": {
      "image/png": "[encoded data removed]",
      "text/plain": [
       "<Figure size 432x288 with 1 Axes>"
      ]
     },
     "metadata": {
      "needs_background": "light"
     },
     "output_type": "display_data"
    }
   ],
   "source": [
    "%matplotlib inline\n",
    "_ = plt.plot(range(1,11), depth, 'o-')"
   ]
  },
  {
   "cell_type": "code",
   "execution_count": 4,
   "metadata": {},
   "outputs": [
    {
     "name": "stdout",
     "output_type": "stream",
     "text": [
      "[1, 1, 36, 76, 156, 316, 636, 1276, 2556, 5116]\n"
     ]
    }
   ],
   "source": [
    "print(depth)"
   ]
  },
  {
   "cell_type": "markdown",
   "metadata": {},
   "source": [
    "From the graph above, the increase of the circuit depth increases exponentially as the number of controlled qubits increases from 1 to approximately 5000. This would greatly reduce the coherence of the entire circuit hence we highly advise users to avoid using the circuit with the mct gate."
   ]
  },
  {
   "cell_type": "markdown",
   "metadata": {},
   "source": [
    "### Using X rotation Hamiltonians only:\n",
    "\n",
    "***"
   ]
  },
  {
   "cell_type": "code",
   "execution_count": 5,
   "metadata": {},
   "outputs": [],
   "source": [
    "V=[0]\n",
    "E=[]\n",
    "\n",
    "depth = []\n",
    "\n",
    "for i in range(1,11):\n",
    "    n     = i\n",
    "    V.append(n)\n",
    "    E.append((0,n,1.0))\n",
    "    \n",
    "\n",
    "    G = nx.Graph()\n",
    "    G.add_nodes_from(V)\n",
    "    G.add_weighted_edges_from(E)\n",
    "\n",
    "    qc = QuantumCircuit()\n",
    "    qr = QuantumRegister(len(G.nodes), 'qubit')\n",
    "    qc.add_register( qr )\n",
    "    \n",
    "    theta = 2.222222\n",
    "    \n",
    "    for n in range(len(G.nodes)):\n",
    "        qc.rx(theta, n)\n",
    "        \n",
    "    depth.append(qc.depth())"
   ]
  },
  {
   "cell_type": "code",
   "execution_count": 6,
   "metadata": {},
   "outputs": [
    {
     "data": {
      "image/png": "[encoded data removed]",
      "text/plain": [
       "<Figure size 432x288 with 1 Axes>"
      ]
     },
     "metadata": {
      "needs_background": "light"
     },
     "output_type": "display_data"
    }
   ],
   "source": [
    "%matplotlib inline\n",
    "_ = plt.plot(range(1,11), depth, 'o-')"
   ]
  },
  {
   "cell_type": "markdown",
   "metadata": {},
   "source": [
    "The circuit depth remains as 1 throughout when X rotation gates are used, this because all of these gates can be applied in parallel, thus keeping the circuit depth as 1 for all values of n, the number of qubits. This implies that it is better for the circuit to transition between all possible subspaces instead of transitioning between feasible subspaces determined by the controlled hamiltonians."
   ]
  },
  {
   "cell_type": "markdown",
   "metadata": {},
   "source": [
    "### Sparse VS Dense Graphs for Controlled Mixer Hamiltonians: \n",
    "***"
   ]
  },
  {
   "cell_type": "code",
   "execution_count": 7,
   "metadata": {},
   "outputs": [],
   "source": [
    "import scipy.sparse\n",
    "\n",
    "depth = []"
   ]
  },
  {
   "cell_type": "code",
   "execution_count": 8,
   "metadata": {},
   "outputs": [],
   "source": [
    "#Max Degree = 2\n",
    "for i in range(1,11):\n",
    "    A = scipy.sparse.eye(11,11,i)\n",
    "    G = nx.from_scipy_sparse_matrix(A)\n",
    "\n",
    "    qc = QuantumCircuit()\n",
    "    qr = QuantumRegister(len(G.nodes) + 1, 'qubit')\n",
    "    qc.add_register( qr )\n",
    "    \n",
    "    ancilla_qubit = qr[len(qr)-1]\n",
    "    theta = 2.222222\n",
    "    \n",
    "    for n in G.nodes:\n",
    "            bfs = dict(nx.traversal.bfs_successors(G,n,depth_limit=1))\n",
    "            for source in bfs:\n",
    "                control_bits = list(qr[int(i)] for i in bfs[source])\n",
    "                qc.mct(control_bits,ancilla_qubit,None,mode=\"noancilla\")\n",
    "                qc.mcrx(theta, [ancilla_qubit], qr[int(source)])\n",
    "                qc.mct(control_bits,ancilla_qubit,None,mode='noancilla')\n",
    "                qc.barrier()\n",
    "        \n",
    "    depth.append(qc.depth())"
   ]
  },
  {
   "cell_type": "code",
   "execution_count": 9,
   "metadata": {},
   "outputs": [
    {
     "data": {
      "image/png": "[encoded data removed]",
      "text/plain": [
       "<Figure size 432x288 with 1 Axes>"
      ]
     },
     "metadata": {
      "needs_background": "light"
     },
     "output_type": "display_data"
    }
   ],
   "source": [
    "%matplotlib inline\n",
    "_ = plt.plot(range(1,11), depth, 'o-')"
   ]
  },
  {
   "cell_type": "markdown",
   "metadata": {},
   "source": [
    "### Dense Graphs:"
   ]
  },
  {
   "cell_type": "code",
   "execution_count": 10,
   "metadata": {},
   "outputs": [],
   "source": [
    "E = []\n",
    "V = [0]\n",
    "depth = []\n",
    "\n",
    "for i in range(1,11):\n",
    "    n     = i\n",
    "    V.append(n)\n",
    "\n",
    "    for e in range(i):\n",
    "        E.append((i,e,1.0))\n",
    "    G = nx.Graph()\n",
    "    G.add_nodes_from(V)\n",
    "    G.add_weighted_edges_from(E)\n",
    "    \n",
    "    qc = QuantumCircuit()\n",
    "    qr = QuantumRegister(len(G.nodes) + 1, 'qubit')\n",
    "    qc.add_register( qr )\n",
    "    \n",
    "    ancilla_qubit = qr[len(qr)-1]\n",
    "    theta = 2.222222\n",
    "    \n",
    "    for n in G.nodes:\n",
    "            bfs = dict(nx.traversal.bfs_successors(G,n,depth_limit=1))\n",
    "            for source in bfs:\n",
    "                control_bits = list(qr[int(i)] for i in bfs[source])\n",
    "                qc.mct(control_bits,ancilla_qubit,None,mode=\"noancilla\")\n",
    "                qc.mcrx(theta, [ancilla_qubit], qr[int(source)])\n",
    "                qc.mct(control_bits,ancilla_qubit,None,mode='noancilla')\n",
    "                qc.barrier()\n",
    "        \n",
    "    depth.append(qc.depth())\n",
    "    "
   ]
  },
  {
   "cell_type": "code",
   "execution_count": 11,
   "metadata": {},
   "outputs": [
    {
     "data": {
      "image/png": "[encoded data removed]",
      "text/plain": [
       "<Figure size 432x288 with 1 Axes>"
      ]
     },
     "metadata": {
      "needs_background": "light"
     },
     "output_type": "display_data"
    }
   ],
   "source": [
    "%matplotlib inline\n",
    "_ = plt.plot(range(1,11), depth, 'o-')"
   ]
  },
  {
   "cell_type": "markdown",
   "metadata": {},
   "source": [
    " Sparse graph tends to keep the circuit depth lower as compared to dense graphs, this is due to the fact that the sparse graph have disjoint sets and each vertex has a degree lower or equal to 2. Hence able to keep the depth of the circuit constant as the mixer gates can be more 'parallel' as compared to the dense graph.\n",
    "<br>\n",
    "There is a need to find better alternatives that can be used as a toffoli gate but with a lower gate count as comapred to qiskit's native mct gate"
   ]
  },
  {
   "cell_type": "code",
   "execution_count": 12,
   "metadata": {},
   "outputs": [
    {
     "name": "stdout",
     "output_type": "stream",
     "text": [
      "[6, 9, 292, 765, 1878, 4431, 10184, 22977, 51130, 112563]\n"
     ]
    }
   ],
   "source": [
    "print(depth)"
   ]
  },
  {
   "cell_type": "code",
   "execution_count": 42,
   "metadata": {},
   "outputs": [
    {
     "data": {
      "image/png": "[encoded data removed]",
      "text/plain": [
       "<Figure size 178.192x264.88 with 1 Axes>"
      ]
     },
     "execution_count": 42,
     "metadata": {},
     "output_type": "execute_result"
    }
   ],
   "source": [
    "cir = QuantumCircuit(4)\n",
    "cir.draw(output='mpl')"
   ]
  },
  {
   "cell_type": "code",
   "execution_count": 51,
   "metadata": {},
   "outputs": [],
   "source": [
    "def G3_crx(theta, cntrl_qubit:list, target_qubit, test_cir):\n",
    "    conjugate_theta = -1 * theta\n",
    "    \n",
    "    test_cir.crx(theta, cntrl_qubit[0], target_qubit)\n",
    "    test_cir.cx(cntrl_qubit[0], cntrl_qubit[1])\n",
    "    test_cir.crx(conjugate_theta, cntrl_qubit[1], target_qubit)\n",
    "    test_cir.cx(cntrl_qubit[0], cntrl_qubit[1])\n",
    "    test_cir.crx(theta, cntrl_qubit[1], target_qubit)\n",
    "    test_cir.cx(cntrl_qubit[1],cntrl_qubit[2])\n",
    "    test_cir.crx(conjugate_theta,cntrl_qubit[2], target_qubit)\n",
    "    test_cir.cx(cntrl_qubit[0],cntrl_qubit[2])\n",
    "    test_cir.crx(theta,cntrl_qubit[2],target_qubit)\n",
    "    test_cir.cx(cntrl_qubit[1],cntrl_qubit[2])\n",
    "    test_cir.crx(conjugate_theta, cntrl_qubit[2], target_qubit)\n",
    "    test_cir.cx(cntrl_qubit[0],cntrl_qubit[2])\n",
    "    test_cir.crx(theta,cntrl_qubit[2], target_qubit)\n",
    "    \n",
    "    return test_cir"
   ]
  },
  {
   "cell_type": "code",
   "execution_count": 52,
   "metadata": {},
   "outputs": [
    {
     "data": {
      "text/plain": [
       "0"
      ]
     },
     "execution_count": 52,
     "metadata": {},
     "output_type": "execute_result"
    }
   ],
   "source": [
    "cir.depth()"
   ]
  },
  {
   "cell_type": "code",
   "execution_count": 53,
   "metadata": {},
   "outputs": [
    {
     "data": {
      "text/plain": [
       "{(0, 1): Text(0.7499999888241293, 0.433012741974907, '1.0'),\n",
       " (0, 5): Text(0.7499999590218074, -0.43301269296576733, '1.0'),\n",
       " (0, 3): Text(1.4901160971803051e-08, -1.9206817775722963e-08, '1.0'),\n",
       " (1, 2): Text(-2.9802321943606103e-08, 0.8660254296429223, '1.0'),\n",
       " (1, 5): Text(0.4999999478459366, 2.4504569873240456e-08, '1.0'),\n",
       " (2, 3): Text(-0.7500000037252903, 0.43301266846119746, '1.0'),\n",
       " (2, 4): Text(-0.49999996274709757, -5.297752070365647e-09, '1.0'),\n",
       " (3, 4): Text(-0.7499999292194854, -0.43301273667715495, '1.0'),\n",
       " (4, 5): Text(1.4901160971803051e-08, -0.8660254104361045, '1.0')}"
      ]
     },
     "execution_count": 53,
     "metadata": {},
     "output_type": "execute_result"
    },
    {
     "data": {
      "image/png": "[encoded data removed]",
      "text/plain": [
       "<Figure size 432x288 with 1 Axes>"
      ]
     },
     "metadata": {},
     "output_type": "display_data"
    }
   ],
   "source": [
    "import networkx as nx \n",
    "import numpy as np\n",
    "import matplotlib.pyplot as plt \n",
    "from   matplotlib import cm\n",
    "from   matplotlib.ticker import LinearLocator, FormatStrFormatter\n",
    "\n",
    "n     = 6\n",
    "V     = np.arange(0,n,1)\n",
    "E     =[(0,1,1.0),(1,2,1.0),(3,2,1.0),(3,4,1.0),(4,2,1.0), (5,4,1.0), (5,0,1.0), (3,0,1.0), (5,1,1.0)] \n",
    "\n",
    "G     = nx.Graph()\n",
    "G.add_nodes_from(V)\n",
    "G.add_weighted_edges_from(E)\n",
    "\n",
    "fig = plt.figure()\n",
    "ax1 = plt.subplot2grid((1, 1), (0, 0))\n",
    "labels = nx.get_edge_attributes(G,'weight')\n",
    "\n",
    "nx.draw(G,with_labels=True, pos=nx.circular_layout(G), node_color='y', edge_color='g')\n",
    "nx.draw_networkx_edge_labels(G,nx.circular_layout(G),edge_labels=labels)"
   ]
  },
  {
   "cell_type": "code",
   "execution_count": 54,
   "metadata": {},
   "outputs": [],
   "source": [
    "obj_fun   = 'x_i'\n",
    "variables = ['x_i']"
   ]
  },
  {
   "cell_type": "code",
   "execution_count": null,
   "metadata": {},
   "outputs": [],
   "source": []
  }
 ],
 "metadata": {
  "kernelspec": {
   "display_name": "Python 3",
   "language": "python",
   "name": "python3"
  },
  "language_info": {
   "codemirror_mode": {
    "name": "ipython",
    "version": 3
   },
   "file_extension": ".py",
   "mimetype": "text/x-python",
   "name": "python",
   "nbconvert_exporter": "python",
   "pygments_lexer": "ipython3",
   "version": "3.7.3"
  }
 },
 "nbformat": 4,
 "nbformat_minor": 2
}
