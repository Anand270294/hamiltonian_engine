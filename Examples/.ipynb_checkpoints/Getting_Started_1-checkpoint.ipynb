{
 "cells": [
  {
   "cell_type": "markdown",
   "metadata": {},
   "source": [
    "# Introduction: Using the toolkit\n",
    "\n",
    "### In order to get the quantum circuit we want, we need to know the Objective function and then convert it into a hamiltonian expression. The toolkit is designed to help users to generate the quantum circuit by automating the process of converting the objective function into a Phase Hamiltonian.\n",
    "\n",
    "### First we have to import the library from hamiltonian under hamiltonian_engine. We need both mixer and phase hamiltonian packages to aid with circuit generation. There is also a expectation value package that helps to conslidate and produce expectation values from the circuit:"
   ]
  },
  {
   "cell_type": "code",
   "execution_count": 1,
   "metadata": {},
   "outputs": [],
   "source": [
    "import os \n",
    "os.path.sys.path.append('../hamiltonian_engine/')\n",
    "from hamiltonian import phase_hamiltonian as phs_ham\n",
    "from hamiltonian import mixer_hamiltonian as mix_ham"
   ]
  },
  {
   "cell_type": "markdown",
   "metadata": {},
   "source": [
    "## Phase Hamiltonians:\n",
    "### Next, the user has to declare an objective function $f(x)$ : $ x_1 + x_2 - 2*x_1*x_2$ and a list of variables that must be found in $f(x)$. "
   ]
  },
  {
   "cell_type": "code",
   "execution_count": 2,
   "metadata": {},
   "outputs": [],
   "source": [
    "obj_function = 'x_1 + x_2 - 2*x_1*x_2'\n",
    "variables = ['x_1','x_2']"
   ]
  },
  {
   "cell_type": "markdown",
   "metadata": {},
   "source": [
    "### To initialize the phase hamiltonian object, we to provide it with the objective function, $f(x)$ and the list of variables present and the equation will be converted into symbols. The user can call the phase hamiltonian object to produce $f(x)$ using the *get_objFun()*:"
   ]
  },
  {
   "cell_type": "code",
   "execution_count": 3,
   "metadata": {},
   "outputs": [
    {
     "data": {
      "text/latex": [
       "$\\displaystyle - 2 x_{1} x_{2} + x_{1} + x_{2}$"
      ],
      "text/plain": [
       "-2*x_1*x_2 + x_1 + x_2"
      ]
     },
     "execution_count": 3,
     "metadata": {},
     "output_type": "execute_result"
    }
   ],
   "source": [
    "phase_h = phs_ham(obj_function,variables)\n",
    "phase_h.get_objFun()"
   ]
  },
  {
   "cell_type": "markdown",
   "metadata": {},
   "source": [
    "### The next step would be to convert $f(x)$ into $H_f$, for that we use the *Hamify()* function. The Hamify function follows a set rules in order to get different types of Phase/Cost Hamiltonians. For an arithmethic expression such as $f(x)$, the $x_1, x_2$ variables are then converted into an Pauli expression consisting of Pauli Z matrices : $\\frac{1}{2} (I - Z_i)$. Finally we get :"
   ]
  },
  {
   "cell_type": "code",
   "execution_count": 4,
   "metadata": {},
   "outputs": [
    {
     "data": {
      "text/latex": [
       "$\\displaystyle - 0.5 Z_{0} Z_{1}$"
      ],
      "text/plain": [
       "-0.5*Z_0*Z_1"
      ]
     },
     "execution_count": 4,
     "metadata": {},
     "output_type": "execute_result"
    }
   ],
   "source": [
    "phase_h.Hamify()\n",
    "phase_h.get_pHamil()"
   ]
  },
  {
   "cell_type": "markdown",
   "metadata": {},
   "source": [
    "### However the zz pauli expression above my not add up, this is because we are not interested in the global phase factors in the quantum circuits. If the user still wishes to see the proper expansion of $f(x)$ to $H_f$. Then the user can choose to set the option of not removing the global phase factors by setting global_phse to \"False\" :"
   ]
  },
  {
   "cell_type": "code",
   "execution_count": 5,
   "metadata": {},
   "outputs": [
    {
     "data": {
      "text/latex": [
       "$\\displaystyle - 0.5 Z_{0} Z_{1} + 1.5$"
      ],
      "text/plain": [
       "-0.5*Z_0*Z_1 + 1.5"
      ]
     },
     "execution_count": 5,
     "metadata": {},
     "output_type": "execute_result"
    }
   ],
   "source": [
    "phase_h.Hamify(global_phse=False)\n",
    "phase_h.get_pHamil()"
   ]
  },
  {
   "cell_type": "markdown",
   "metadata": {},
   "source": [
    "### In some, cases the certain expressions tend to form powers in the arguments, by default the toolkit reduces them to power 1 since it does not affect the calculations, however, users have an option to leave the powers above 1 alone:"
   ]
  },
  {
   "cell_type": "code",
   "execution_count": 6,
   "metadata": {},
   "outputs": [
    {
     "data": {
      "text/latex": [
       "$\\displaystyle 0.25 Z_{0}^{2} - 0.5 Z_{0} - 0.25$"
      ],
      "text/plain": [
       "0.25*Z_0**2 - 0.5*Z_0 - 0.25"
      ]
     },
     "execution_count": 6,
     "metadata": {},
     "output_type": "execute_result"
    }
   ],
   "source": [
    "# declare an objective function\n",
    "obj_func2 = 'x_1 ** 2'\n",
    "variables2 = ['x_1']\n",
    "\n",
    "# Instantiate new hamiltonian and Hamify!\n",
    "phase_h2 = phs_ham(obj_func2, variables2)\n",
    "phase_h2.Hamify(pwr_args=False, global_phse=False)\n",
    "phase_h2.get_pHamil()"
   ]
  },
  {
   "cell_type": "markdown",
   "metadata": {},
   "source": [
    "## Mixer Hamiltonians:\n",
    "### The mixer hamiltonian package helps to generate a mixer hamiltonian based on the problem. For now let's just stick to Pauli X rotation gates to allow transition between all feasible subspace i.e. all possible bit string combinations. Instantiate a new mixer hamiltonian class using the phase Hamiltonian:"
   ]
  },
  {
   "cell_type": "code",
   "execution_count": 7,
   "metadata": {},
   "outputs": [],
   "source": [
    "mx_ham = mix_ham(phase_h)"
   ]
  },
  {
   "cell_type": "markdown",
   "metadata": {},
   "source": [
    "### Warning:\n",
    "### If the user decides to generate the circuit from the phase/mixer hamiltonian package, then it is highly adivsed to leave the *Hamify()* function to its default values:"
   ]
  },
  {
   "cell_type": "code",
   "execution_count": 8,
   "metadata": {},
   "outputs": [
    {
     "data": {
      "text/latex": [
       "$\\displaystyle - 0.5 Z_{0} Z_{1}$"
      ],
      "text/plain": [
       "-0.5*Z_0*Z_1"
      ]
     },
     "execution_count": 8,
     "metadata": {},
     "output_type": "execute_result"
    }
   ],
   "source": [
    "phase_h.Hamify()\n",
    "phase_h.get_pHamil()"
   ]
  },
  {
   "cell_type": "markdown",
   "metadata": {},
   "source": [
    "### Then Users can import all the necessary packages from qiskit to run the circuit."
   ]
  },
  {
   "cell_type": "code",
   "execution_count": 9,
   "metadata": {},
   "outputs": [],
   "source": [
    "# importing Qiskit\n",
    "from qiskit import Aer, IBMQ\n",
    "from qiskit import execute\n",
    "from qiskit.tools.monitor import job_monitor\n",
    "from qiskit.visualization import plot_histogram"
   ]
  },
  {
   "cell_type": "markdown",
   "metadata": {},
   "source": [
    "### In order to generate the full QAOA circuit the users need to have the mixer and phase hamiltonians. For the Mixer Hamiltonians, users call the function *generalXMixer()* function to allow transistion to all subspaces.\n",
    "\n",
    "### For the phase hamiltonian, users can choose to either map each the variables in the list/equation to an individual qubit or map the $H_f$ (containing only 2 variables) to each edge of a graph. In this case, we use a per Qubit mapper:"
   ]
  },
  {
   "cell_type": "code",
   "execution_count": 10,
   "metadata": {},
   "outputs": [],
   "source": [
    "gamma = 0.1111\n",
    "beta = 2.11\n",
    "cir = phase_h.perQubitMap(gamma, 1, True, True) + mx_ham.generalXMixer(beta,1,True)"
   ]
  },
  {
   "cell_type": "code",
   "execution_count": 11,
   "metadata": {},
   "outputs": [
    {
     "data": {
      "image/png": "[encoded data removed]",
      "text/plain": [
       "<Figure size 758.52x204.68 with 1 Axes>"
      ]
     },
     "execution_count": 11,
     "metadata": {},
     "output_type": "execute_result"
    }
   ],
   "source": [
    "cir.draw(output='mpl')"
   ]
  },
  {
   "cell_type": "code",
   "execution_count": 12,
   "metadata": {},
   "outputs": [],
   "source": [
    "# run on local simulator\n",
    "backend      = Aer.get_backend(\"qasm_simulator\")\n",
    "shots        = 10000\n",
    "\n",
    "simulate     = execute(cir, backend=backend, shots=shots)\n",
    "res = simulate.result()"
   ]
  },
  {
   "cell_type": "markdown",
   "metadata": {},
   "source": [
    "### After simulating the circuit, the next step is calculate the expectation value for that, we have an expectation value package that we can use:"
   ]
  },
  {
   "cell_type": "code",
   "execution_count": 13,
   "metadata": {},
   "outputs": [
    {
     "data": {
      "text/latex": [
       "$\\displaystyle 0.5502$"
      ],
      "text/plain": [
       "0.550200000000000"
      ]
     },
     "execution_count": 13,
     "metadata": {},
     "output_type": "execute_result"
    }
   ],
   "source": [
    "from expectation_value import expectation_value as ex_vle\n",
    "\n",
    "# Instantiate object for expectation value\n",
    "expt = ex_vle(obj_function,variables,is_graph=False)\n",
    "\n",
    "#Calculate the results\n",
    "expt.get_expectationValue(res, shots)"
   ]
  },
  {
   "cell_type": "markdown",
   "metadata": {},
   "source": [
    "## Boolean functions and Graphs:\n",
    "\n",
    "### Some objective functions come in the form of boolean expressions, hence the engine is able convert boolean function $f(x)$  to $H_f$. However, the user has to declare that the $f(x)$ is a boolean expression:"
   ]
  },
  {
   "cell_type": "code",
   "execution_count": 14,
   "metadata": {},
   "outputs": [
    {
     "data": {
      "text/latex": [
       "$\\displaystyle \\left(x_{1} \\wedge \\neg x_{2}\\right) \\vee \\left(x_{2} \\wedge \\neg x_{1}\\right)$"
      ],
      "text/plain": [
       "(x_1 & ~x_2) | (x_2 & ~x_1)"
      ]
     },
     "execution_count": 14,
     "metadata": {},
     "output_type": "execute_result"
    }
   ],
   "source": [
    "bool_exp = '~x_1 & x_2 | ~x_2 & x_1'\n",
    "variables = ['x_1','x_2']\n",
    "\n",
    "phase_h = phs_ham(bool_exp,variables)\n",
    "phase_h.get_objFun()"
   ]
  },
  {
   "cell_type": "markdown",
   "metadata": {},
   "source": [
    "### When $f(x)$ has been converted to $H_f$,  we realise that the $H_f$ is the same as the function: $f(x)$ : $ x_1 + x_2 - 2*x_1*x_2$ which also known as $x_1\\oplus x_2$"
   ]
  },
  {
   "cell_type": "code",
   "execution_count": 15,
   "metadata": {},
   "outputs": [
    {
     "data": {
      "text/latex": [
       "$\\displaystyle - 0.5 Z_{0} Z_{1}$"
      ],
      "text/plain": [
       "-0.5*Z_0*Z_1"
      ]
     },
     "execution_count": 15,
     "metadata": {},
     "output_type": "execute_result"
    }
   ],
   "source": [
    "phase_h.Hamify(boolean=True)\n",
    "phase_h.get_pHamil()"
   ]
  },
  {
   "cell_type": "markdown",
   "metadata": {},
   "source": [
    "### Hamiltonian engine uses networkx to map the graphs onto the circuits. Using networkx one can create a simple graph:"
   ]
  },
  {
   "cell_type": "code",
   "execution_count": 16,
   "metadata": {},
   "outputs": [
    {
     "name": "stderr",
     "output_type": "stream",
     "text": [
      "/home/anand/anaconda3/lib/python3.7/site-packages/networkx/drawing/nx_pylab.py:579: MatplotlibDeprecationWarning: \n",
      "The iterable function was deprecated in Matplotlib 3.1 and will be removed in 3.3. Use np.iterable instead.\n",
      "  if not cb.iterable(width):\n"
     ]
    },
    {
     "data": {
      "image/png": "[encoded data removed]",
      "text/plain": [
       "<Figure size 432x288 with 1 Axes>"
      ]
     },
     "metadata": {},
     "output_type": "display_data"
    }
   ],
   "source": [
    "import networkx as nx \n",
    "import matplotlib.pyplot as plt \n",
    "from   matplotlib import cm\n",
    "from   matplotlib.ticker import LinearLocator, FormatStrFormatter\n",
    "\n",
    "#Generate a graph here using networkx\n",
    "# Number of Nodes\n",
    "n = 3\n",
    "degree = 2\n",
    "\n",
    "# Create the graph\n",
    "G = nx.random_regular_graph(degree, n)\n",
    "plt.subplot(121)\n",
    "\n",
    "nx.draw(G,with_labels=1, pos=nx.spring_layout(G), node_color='w', edge_color='g')"
   ]
  },
  {
   "cell_type": "markdown",
   "metadata": {},
   "source": [
    "### The phase hamiltonian can then be mapped onto each edge, Users have to make sure that the boolean function only contains 2 variables so that the function can be mapped onto each edge of the graph:"
   ]
  },
  {
   "cell_type": "code",
   "execution_count": 17,
   "metadata": {},
   "outputs": [],
   "source": [
    "#gamma\n",
    "#beta\n",
    "cir_graph = phase_h.perEdgeMap(G, 1.8888, True, True) + mx_ham.generalXMixer(2.11022334,1,True,True,G)"
   ]
  },
  {
   "cell_type": "code",
   "execution_count": 18,
   "metadata": {},
   "outputs": [
    {
     "data": {
      "image/png": "[encoded data removed]",
      "text/plain": [
       "<Figure size 1179.92x264.88 with 1 Axes>"
      ]
     },
     "execution_count": 18,
     "metadata": {},
     "output_type": "execute_result"
    }
   ],
   "source": [
    "cir_graph.draw(output='mpl')"
   ]
  },
  {
   "cell_type": "markdown",
   "metadata": {},
   "source": [
    "### After generating the quantum circuit, Users can calulate the expectation value of the circuit. In true, QAOA fashion the hyperparameters have to be tuned to get the maximum expectation value of the problem. Users can use SciPy's optimization algorithms to tune the rotation values of the gate."
   ]
  },
  {
   "cell_type": "code",
   "execution_count": 19,
   "metadata": {},
   "outputs": [],
   "source": [
    "res_graph = ex_vle(obj_function,variables,is_graph=True)"
   ]
  },
  {
   "cell_type": "code",
   "execution_count": 20,
   "metadata": {},
   "outputs": [
    {
     "data": {
      "text/latex": [
       "$\\displaystyle 0.1128$"
      ],
      "text/plain": [
       "0.112800000000000"
      ]
     },
     "execution_count": 20,
     "metadata": {},
     "output_type": "execute_result"
    }
   ],
   "source": [
    "# run on local simulator\n",
    "backend      = Aer.get_backend(\"qasm_simulator\")\n",
    "shots        = 10000\n",
    "\n",
    "simulate     = execute(cir_graph, backend=backend, shots=shots)\n",
    "results = simulate.result()\n",
    "\n",
    "res_graph.get_expectationValue(results,shots,G)"
   ]
  },
  {
   "cell_type": "markdown",
   "metadata": {},
   "source": [
    "### In the next chapter, we will go through \"predefined_examples\" package which combines all of the processes above together to tune the hyperparameters.\n",
    "\n",
    "#### *All of the examples above has p value of 1"
   ]
  },
  {
   "cell_type": "code",
   "execution_count": null,
   "metadata": {},
   "outputs": [],
   "source": []
  }
 ],
 "metadata": {
  "kernelspec": {
   "display_name": "Python 3",
   "language": "python",
   "name": "python3"
  },
  "language_info": {
   "codemirror_mode": {
    "name": "ipython",
    "version": 3
   },
   "file_extension": ".py",
   "mimetype": "text/x-python",
   "name": "python",
   "nbconvert_exporter": "python",
   "pygments_lexer": "ipython3",
   "version": "3.7.3"
  }
 },
 "nbformat": 4,
 "nbformat_minor": 2
}
