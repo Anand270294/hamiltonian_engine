{
 "cells": [
  {
   "cell_type": "code",
   "execution_count": 2,
   "metadata": {},
   "outputs": [
    {
     "data": {
      "text/plain": [
       "{(0, 1): Text(0.654508480212244, 0.4755283023511464, '6.0'),\n",
       " (0, 2): Text(0.09549145273252935, 0.2938926212887637, '7.0'),\n",
       " (1, 2): Text(-0.2500000670552266, 0.7694208997980517, '8.0'),\n",
       " (2, 3): Text(-0.8090170349302954, -6.55651103964594e-08, '9.0'),\n",
       " (2, 4): Text(-0.24999999254941926, -0.18163562741820138, '4.0'),\n",
       " (3, 4): Text(-0.24999993294477343, -0.7694209117189807, '10.0')}"
      ]
     },
     "execution_count": 2,
     "metadata": {},
     "output_type": "execute_result"
    },
    {
     "data": {
      "image/png": "[encoded data removed]",
      "text/plain": [
       "<Figure size 432x288 with 1 Axes>"
      ]
     },
     "metadata": {},
     "output_type": "display_data"
    }
   ],
   "source": [
    "from scipy import optimize as opt\n",
    "from scipy.optimize import Bounds\n",
    "\n",
    "# Create a graph for the problem its is also adviseable to instantiate the weight of the graphs else it \n",
    "# be defaulted to 1\n",
    "import networkx as nx \n",
    "import numpy as np\n",
    "import matplotlib.pyplot as plt \n",
    "from   matplotlib import cm\n",
    "from   matplotlib.ticker import LinearLocator, FormatStrFormatter\n",
    "\n",
    "n     = 5\n",
    "V     = np.arange(0,n,1)\n",
    "E     =[(0,1,6.0),(0,2,7.0),(1,2,8.0),(3,2,9.0),(3,4,10.0),(4,2,4.0)] \n",
    "\n",
    "G     = nx.Graph()\n",
    "G.add_nodes_from(V)\n",
    "G.add_weighted_edges_from(E)\n",
    "fig = plt.figure()\n",
    "ax1 = plt.subplot2grid((1, 1), (0, 0))\n",
    "labels = nx.get_edge_attributes(G,'weight')\n",
    "\n",
    "nx.draw(G,with_labels=True, pos=nx.circular_layout(G), node_color='y', edge_color='g')\n",
    "nx.draw_networkx_edge_labels(G,nx.circular_layout(G),edge_labels=labels)"
   ]
  },
  {
   "cell_type": "code",
   "execution_count": 3,
   "metadata": {},
   "outputs": [
    {
     "data": {
      "text/latex": [
       "$\\displaystyle \\left(x_{u} \\wedge \\neg x_{v}\\right) \\vee \\left(x_{v} \\wedge \\neg x_{u}\\right)$"
      ],
      "text/plain": [
       "(x_u & ~x_v) | (x_v & ~x_u)"
      ]
     },
     "execution_count": 3,
     "metadata": {},
     "output_type": "execute_result"
    }
   ],
   "source": [
    "import os \n",
    "os.path.sys.path.append('../hamiltonian_engine/')\n",
    "from hamiltonian import phase_hamiltonian as phs_ham\n",
    "from hamiltonian import mixer_hamiltonian as mx_ham\n",
    "from expectation_value import expectation_value as ex_vle\n",
    "\n",
    "obj = 'x_u & ~x_v | ~x_u & x_v'\n",
    "variables = ['x_u', 'x_v']\n",
    "\n",
    "c_Hamiltonian = phs_ham(obj, variables)\n",
    "m_Hamiltonian = mx_ham(c_Hamiltonian)\n",
    "\n",
    "# Instantiate object for expectation value\n",
    "expt = ex_vle(obj,variables,is_graph=True)\n",
    "\n",
    "c_Hamiltonian.get_objFun()"
   ]
  },
  {
   "cell_type": "code",
   "execution_count": 4,
   "metadata": {},
   "outputs": [
    {
     "data": {
      "text/latex": [
       "$\\displaystyle - 0.5 Z_{u} Z_{v}$"
      ],
      "text/plain": [
       "-0.5*Z_u*Z_v"
      ]
     },
     "execution_count": 4,
     "metadata": {},
     "output_type": "execute_result"
    }
   ],
   "source": [
    "c_Hamiltonian.Hamify(boolean=True)\n",
    "c_Hamiltonian.get_pHamil()"
   ]
  },
  {
   "cell_type": "code",
   "execution_count": 30,
   "metadata": {},
   "outputs": [
    {
     "ename": "AttributeError",
     "evalue": "'Result' object has no attribute 'x'",
     "output_type": "error",
     "traceback": [
      "\u001b[0;31m---------------------------------------------------------------------------\u001b[0m",
      "\u001b[0;31mAttributeError\u001b[0m                            Traceback (most recent call last)",
      "\u001b[0;32m<ipython-input-30-3700b36524fe>\u001b[0m in \u001b[0;36m<module>\u001b[0;34m\u001b[0m\n\u001b[1;32m      6\u001b[0m \u001b[0mbetas\u001b[0m \u001b[0;34m=\u001b[0m \u001b[0mlist\u001b[0m\u001b[0;34m(\u001b[0m\u001b[0mnp\u001b[0m\u001b[0;34m.\u001b[0m\u001b[0marange\u001b[0m\u001b[0;34m(\u001b[0m\u001b[0;36m0\u001b[0m\u001b[0;34m,\u001b[0m \u001b[0mnp\u001b[0m\u001b[0;34m.\u001b[0m\u001b[0mpi\u001b[0m\u001b[0;34m,\u001b[0m \u001b[0mnp\u001b[0m\u001b[0;34m.\u001b[0m\u001b[0mpi\u001b[0m\u001b[0;34m/\u001b[0m\u001b[0;36m100\u001b[0m\u001b[0;34m)\u001b[0m\u001b[0;34m)\u001b[0m\u001b[0;34m\u001b[0m\u001b[0;34m\u001b[0m\u001b[0m\n\u001b[1;32m      7\u001b[0m \u001b[0;34m\u001b[0m\u001b[0m\n\u001b[0;32m----> 8\u001b[0;31m \u001b[0mhyperparams\u001b[0m \u001b[0;34m=\u001b[0m \u001b[0mlist\u001b[0m\u001b[0;34m(\u001b[0m\u001b[0mres\u001b[0m\u001b[0;34m.\u001b[0m\u001b[0mx\u001b[0m\u001b[0;34m)\u001b[0m\u001b[0;34m\u001b[0m\u001b[0;34m\u001b[0m\u001b[0m\n\u001b[0m\u001b[1;32m      9\u001b[0m \u001b[0;34m\u001b[0m\u001b[0m\n\u001b[1;32m     10\u001b[0m \u001b[0;32mdef\u001b[0m \u001b[0mMAX_CUT_QAOA\u001b[0m\u001b[0;34m(\u001b[0m\u001b[0mhyperparams\u001b[0m\u001b[0;34m:\u001b[0m\u001b[0mlist\u001b[0m\u001b[0;34m)\u001b[0m\u001b[0;34m:\u001b[0m\u001b[0;34m\u001b[0m\u001b[0;34m\u001b[0m\u001b[0m\n",
      "\u001b[0;31mAttributeError\u001b[0m: 'Result' object has no attribute 'x'"
     ]
    }
   ],
   "source": [
    "import numpy as np\n",
    "from qiskit import *\n",
    "#Gammas\n",
    "gammas=list(np.arange(0, np.pi*2, (np.pi*2)/100))\n",
    "#Betas\n",
    "betas = list(np.arange(0, np.pi, np.pi/100))\n",
    "\n",
    "hyperparams = gammas + betas\n",
    "\n",
    "def MAX_CUT_QAOA(hyperparams:list):\n",
    "    l = len(hyperparams)\n",
    "    p = 100\n",
    "    gammas = hyperparams[:l//2]\n",
    "    betas  = hyperparams[l//2:]\n",
    "    \n",
    "    for i in range(p):\n",
    "        if i == 0:\n",
    "            cir = c_Hamiltonian.perEdgeMap([gammas[0]],1,G,initial_Hadamard=True,barrier=True) + m_Hamiltonian.generalXMixer([betas[0]],1,measure=False,graph_map=True,graph=G)\n",
    "        if i == p - 1:\n",
    "            cir += c_Hamiltonian.perEdgeMap([gammas[i]],1,G,initial_Hadamard=False,barrier=True) + m_Hamiltonian.generalXMixer([betas[i]],1,measure=True,graph_map=True,graph=G)\n",
    "    \n",
    "        cir += c_Hamiltonian.perEdgeMap([gammas[i]],1,G,initial_Hadamard=False,barrier=True) + m_Hamiltonian.generalXMixer([betas[i]],1,measure=False,graph_map=True,graph=G)\n",
    "    \n",
    "    # run on local simulator\n",
    "    backend      = Aer.get_backend(\"qasm_simulator\")\n",
    "    shots        = 1024\n",
    "\n",
    "    simulate     = execute(cir, backend=backend, shots=shots)\n",
    "    res = simulate.result()\n",
    "    \n",
    "    res = expt.get_expectationValue(res, shots, G)\n",
    "    \n",
    "    return -1 * res"
   ]
  },
  {
   "cell_type": "code",
   "execution_count": null,
   "metadata": {},
   "outputs": [],
   "source": [
    "from scipy import optimize as opt\n",
    "from scipy.optimize import Bounds\n",
    "\n",
    "#define the bounds for the hyperparameters\n",
    "bounds = [[0, 2*np.pi], [0, np.pi]]\n",
    "cons = []\n",
    "for factor in range(len(bounds)):\n",
    "    lower, upper = bounds[factor]\n",
    "    l = {'type': 'ineq','fun': lambda x, lb=lower, i=factor: x[i] - lb}\n",
    "    u = {'type': 'ineq','fun': lambda x, ub=upper, i=factor: ub - x[i]}\n",
    "    cons.append(l)\n",
    "    cons.append(u)\n",
    "        \n",
    "res = opt.minimize(MAX_CUT_QAOA, hyperparams,constraints=cons,options={\"maxiter\": 1000} ,tol= 1e-3, method='Cobyla')\n",
    "\n",
    "print(res)"
   ]
  },
  {
   "cell_type": "code",
   "execution_count": null,
   "metadata": {},
   "outputs": [],
   "source": [
    "from qiskit.visualization import plot_histogram\n",
    "\n",
    "hyperparams = list(res.x)\n",
    "l = len(hyperparams)\n",
    "gammas = hyperparams[:l//2]\n",
    "betas  = hyperparams[l//2:]\n",
    "p = 2\n",
    "for i in range(p):\n",
    "        if i == 0:\n",
    "            cir = c_Hamiltonian.perEdgeMap([gammas[0]],1,G,initial_Hadamard=True,barrier=True) + m_Hamiltonian.generalXMixer([betas[0]],1,measure=False,graph_map=True,graph=G)\n",
    "        if i == p - 1:\n",
    "            cir += c_Hamiltonian.perEdgeMap([gammas[i]],1,G,initial_Hadamard=False,barrier=True) + m_Hamiltonian.generalXMixer([betas[i]],1,measure=True,graph_map=True,graph=G)\n",
    "    \n",
    "        cir += c_Hamiltonian.perEdgeMap([gammas[i]],1,G,initial_Hadamard=False,barrier=True) + m_Hamiltonian.generalXMixer([betas[i]],1,measure=False,graph_map=True,graph=G)\n",
    "    \n",
    "# run on local simulator\n",
    "backend      = Aer.get_backend(\"qasm_simulator\")\n",
    "shots        = 10000\n",
    "\n",
    "simulate     = execute(cir, backend=backend, shots=shots)\n",
    "res = simulate.result()\n",
    "\n",
    "# Evaluate the data from the simulator\n",
    "counts = res.get_counts()\n",
    "plot_histogram(counts,figsize = (8,6),bar_labels = True)"
   ]
  },
  {
   "cell_type": "code",
   "execution_count": 7,
   "metadata": {},
   "outputs": [],
   "source": [
    "#Gammas\n",
    "gammas=[3.62714843, 3.14119784]\n",
    "#Betas\n",
    "betas =[1.97286558, 3.0942776]\n",
    "\n",
    "hyperparams = gammas + betas\n",
    "\n",
    "def MAX_CUT_QAOA(hyperparams:list):\n",
    "    l = len(hyperparams)\n",
    "    p = 2\n",
    "    gammas = hyperparams[:l//2]\n",
    "    betas  = hyperparams[l//2:]\n",
    "    \n",
    "    cir = c_Hamiltonian.perEdgeMap(gammas,p,G,initial_Hadamard=True,barrier=True) + m_Hamiltonian.generalXMixer(betas,p,measure=True,graph_map=True,graph=G)\n",
    "    # run on local simulator\n",
    "    backend      = Aer.get_backend(\"qasm_simulator\")\n",
    "    shots        = 1024\n",
    "\n",
    "    simulate     = execute(cir, backend=backend, shots=shots)\n",
    "    res = simulate.result()\n",
    "    \n",
    "    res = expt.get_expectationValue(res, shots, G)\n",
    "    \n",
    "    return -1 * res"
   ]
  },
  {
   "cell_type": "code",
   "execution_count": 8,
   "metadata": {},
   "outputs": [
    {
     "name": "stdout",
     "output_type": "stream",
     "text": [
      "     fun: -28.5126953125\n",
      "   maxcv: 0.0\n",
      " message: 'Optimization terminated successfully.'\n",
      "    nfev: 47\n",
      "  status: 1\n",
      " success: True\n",
      "       x: array([3.62714843, 3.14119784, 1.97286558, 3.49942776])\n"
     ]
    }
   ],
   "source": [
    "from scipy import optimize as opt\n",
    "from scipy.optimize import Bounds\n",
    "\n",
    "#define the bounds for the hyperparameters\n",
    "bounds = [[0, 2*np.pi], [0, np.pi]]\n",
    "cons = []\n",
    "for factor in range(len(bounds)):\n",
    "    lower, upper = bounds[factor]\n",
    "    l = {'type': 'ineq','fun': lambda x, lb=lower, i=factor: x[i] - lb}\n",
    "    u = {'type': 'ineq','fun': lambda x, ub=upper, i=factor: ub - x[i]}\n",
    "    cons.append(l)\n",
    "    cons.append(u)\n",
    "        \n",
    "res = opt.minimize(MAX_CUT_QAOA, hyperparams,constraints=cons,options={\"maxiter\": 500} ,tol= 1e-3, method='Cobyla')\n",
    "\n",
    "print(res)"
   ]
  },
  {
   "cell_type": "code",
   "execution_count": 9,
   "metadata": {},
   "outputs": [
    {
     "data": {
      "image/png": "[encoded data removed]",
      "text/plain": [
       "<Figure size 576x432 with 1 Axes>"
      ]
     },
     "execution_count": 9,
     "metadata": {},
     "output_type": "execute_result"
    }
   ],
   "source": [
    "from qiskit.visualization import plot_histogram\n",
    "\n",
    "hyperparams = list(res.x)\n",
    "l = len(hyperparams)\n",
    "gammas = hyperparams[:l//2]\n",
    "betas  = hyperparams[l//2:]\n",
    "p = 2\n",
    "fcir = c_Hamiltonian.perEdgeMap(gammas,p,G,initial_Hadamard=True,barrier=True) + m_Hamiltonian.generalXMixer(betas,p,measure=True,graph_map=True,graph=G)\n",
    "    \n",
    "# run on local simulator\n",
    "backend      = Aer.get_backend(\"qasm_simulator\")\n",
    "shots        = 10000\n",
    "\n",
    "simulate     = execute(cir, backend=backend, shots=shots)\n",
    "res = simulate.result()\n",
    "\n",
    "# Evaluate the data from the simulator\n",
    "counts = res.get_counts()\n",
    "plot_histogram(counts,figsize = (8,6),bar_labels = True)"
   ]
  },
  {
   "cell_type": "code",
   "execution_count": null,
   "metadata": {},
   "outputs": [],
   "source": []
  }
 ],
 "metadata": {
  "kernelspec": {
   "display_name": "Python 3",
   "language": "python",
   "name": "python3"
  },
  "language_info": {
   "codemirror_mode": {
    "name": "ipython",
    "version": 3
   },
   "file_extension": ".py",
   "mimetype": "text/x-python",
   "name": "python",
   "nbconvert_exporter": "python",
   "pygments_lexer": "ipython3",
   "version": "3.7.3"
  }
 },
 "nbformat": 4,
 "nbformat_minor": 2
}
