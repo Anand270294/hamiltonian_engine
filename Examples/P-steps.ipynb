{
 "cells": [
  {
   "cell_type": "code",
   "execution_count": 10,
   "metadata": {},
   "outputs": [
    {
     "name": "stderr",
     "output_type": "stream",
     "text": [
      "/home/anand/anaconda3/lib/python3.7/site-packages/networkx/drawing/nx_pylab.py:579: MatplotlibDeprecationWarning: \n",
      "The iterable function was deprecated in Matplotlib 3.1 and will be removed in 3.3. Use np.iterable instead.\n",
      "  if not cb.iterable(width):\n"
     ]
    },
    {
     "data": {
      "text/plain": [
       "{(0, 1): Text(0.24999996274709668, 0.43301271829021687, '6.0'),\n",
       " (0, 2): Text(0.2500000372529033, -0.43301270835610933, '7.0'),\n",
       " (1, 2): Text(-0.5, -9.934107536579972e-09, '8.0')}"
      ]
     },
     "execution_count": 10,
     "metadata": {},
     "output_type": "execute_result"
    },
    {
     "data": {
      "image/png": "[encoded data removed]",
      "text/plain": [
       "<Figure size 432x288 with 1 Axes>"
      ]
     },
     "metadata": {},
     "output_type": "display_data"
    }
   ],
   "source": [
    "from scipy import optimize as opt\n",
    "from scipy.optimize import Bounds\n",
    "\n",
    "# Create a graph for the problem its is also adviseable to instantiate the weight of the graphs else it \n",
    "# be defaulted to 1\n",
    "import networkx as nx \n",
    "import numpy as np\n",
    "import matplotlib.pyplot as plt \n",
    "from   matplotlib import cm\n",
    "from   matplotlib.ticker import LinearLocator, FormatStrFormatter\n",
    "\n",
    "n     = 3\n",
    "V     = np.arange(0,n,1)\n",
    "E     =[(0,1,6.0),(2,0,7.0),(1,2,8.0)] \n",
    "\n",
    "G     = nx.Graph()\n",
    "G.add_nodes_from(V)\n",
    "G.add_weighted_edges_from(E)\n",
    "fig = plt.figure()\n",
    "ax1 = plt.subplot2grid((1, 1), (0, 0))\n",
    "labels = nx.get_edge_attributes(G,'weight')\n",
    "\n",
    "nx.draw(G,with_labels=True, pos=nx.circular_layout(G), node_color='y', edge_color='g')\n",
    "nx.draw_networkx_edge_labels(G,nx.circular_layout(G),edge_labels=labels)"
   ]
  },
  {
   "cell_type": "code",
   "execution_count": 2,
   "metadata": {},
   "outputs": [
    {
     "data": {
      "text/latex": [
       "$\\displaystyle \\left(x_{u} \\wedge \\neg x_{v}\\right) \\vee \\left(x_{v} \\wedge \\neg x_{u}\\right)$"
      ],
      "text/plain": [
       "(x_u & ~x_v) | (x_v & ~x_u)"
      ]
     },
     "execution_count": 2,
     "metadata": {},
     "output_type": "execute_result"
    }
   ],
   "source": [
    "import os \n",
    "os.path.sys.path.append('../hamiltonian_engine/')\n",
    "from hamiltonian import phase_hamiltonian as phs_ham\n",
    "from hamiltonian import mixer_hamiltonian as mx_ham\n",
    "from expectation_value import expectation_value as ex_vle\n",
    "\n",
    "obj = 'x_u & ~x_v | ~x_u & x_v'\n",
    "variables = ['x_u', 'x_v']\n",
    "\n",
    "c_Hamiltonian = phs_ham(obj, variables)\n",
    "m_Hamiltonian = mx_ham(c_Hamiltonian)\n",
    "\n",
    "# Instantiate object for expectation value\n",
    "expt = ex_vle(obj,variables,is_graph=True)\n",
    "\n",
    "c_Hamiltonian.get_objFun()"
   ]
  },
  {
   "cell_type": "code",
   "execution_count": 3,
   "metadata": {},
   "outputs": [
    {
     "data": {
      "text/latex": [
       "$\\displaystyle - 0.5 Z_{0} Z_{1}$"
      ],
      "text/plain": [
       "-0.5*Z_0*Z_1"
      ]
     },
     "execution_count": 3,
     "metadata": {},
     "output_type": "execute_result"
    }
   ],
   "source": [
    "c_Hamiltonian.Hamify(boolean=True)\n",
    "c_Hamiltonian.get_pHamil()"
   ]
  },
  {
   "cell_type": "code",
   "execution_count": 4,
   "metadata": {},
   "outputs": [],
   "source": [
    "import numpy as np\n",
    "from qiskit import *\n",
    "#Gammas\n",
    "gammas=[np.pi, 2*np.pi]\n",
    "#Betas\n",
    "betas =[np.pi/2, np.pi]\n",
    "\n",
    "hyperparams = gammas + betas\n",
    "\n",
    "def MAX_CUT_QAOA(hyperparams:list):\n",
    "    l = len(hyperparams)\n",
    "    p = 2\n",
    "    gammas = hyperparams[:l//2]\n",
    "    betas  = hyperparams[l//2:]\n",
    "    \n",
    "    for i in range(p):\n",
    "        if i == 0:\n",
    "            cir = c_Hamiltonian.perEdgeMap([gammas[0]],1,G,initial_Hadamard=True,barrier=True) + m_Hamiltonian.generalXMixer([betas[0]],1,measure=False,graph_map=True,graph=G)\n",
    "        if i == p - 1:\n",
    "            cir += c_Hamiltonian.perEdgeMap([gammas[i]],1,G,initial_Hadamard=False,barrier=True) + m_Hamiltonian.generalXMixer([betas[i]],1,measure=True,graph_map=True,graph=G)\n",
    "    \n",
    "        cir += c_Hamiltonian.perEdgeMap([gammas[i]],1,G,initial_Hadamard=False,barrier=True) + m_Hamiltonian.generalXMixer([betas[i]],1,measure=False,graph_map=True,graph=G)\n",
    "    \n",
    "    # run on local simulator\n",
    "    backend      = Aer.get_backend(\"qasm_simulator\")\n",
    "    shots        = 1024\n",
    "\n",
    "    simulate     = execute(cir, backend=backend, shots=shots)\n",
    "    res = simulate.result()\n",
    "    \n",
    "    res = expt.get_expectationValue(res, shots, G)\n",
    "    \n",
    "    return -1 * res"
   ]
  },
  {
   "cell_type": "code",
   "execution_count": 5,
   "metadata": {},
   "outputs": [
    {
     "name": "stdout",
     "output_type": "stream",
     "text": [
      "     fun: -13.91015625\n",
      "   maxcv: 0.0\n",
      " message: 'Optimization terminated successfully.'\n",
      "    nfev: 46\n",
      "  status: 1\n",
      " success: True\n",
      "       x: array([4.01336581, 3.14159265, 1.64589616, 3.28206952])\n"
     ]
    }
   ],
   "source": [
    "from scipy import optimize as opt\n",
    "from scipy.optimize import Bounds\n",
    "\n",
    "#define the bounds for the hyperparameters\n",
    "bounds = [[0, 2*np.pi], [0, np.pi]]\n",
    "cons = []\n",
    "for factor in range(len(bounds)):\n",
    "    lower, upper = bounds[factor]\n",
    "    l = {'type': 'ineq','fun': lambda x, lb=lower, i=factor: x[i] - lb}\n",
    "    u = {'type': 'ineq','fun': lambda x, ub=upper, i=factor: ub - x[i]}\n",
    "    cons.append(l)\n",
    "    cons.append(u)\n",
    "        \n",
    "res = opt.minimize(MAX_CUT_QAOA, hyperparams,constraints=cons,options={\"maxiter\": 500} ,tol= 1e-3, method='Cobyla')\n",
    "\n",
    "print(res)"
   ]
  },
  {
   "cell_type": "code",
   "execution_count": 6,
   "metadata": {},
   "outputs": [
    {
     "data": {
      "image/png": "[encoded data removed]",
      "text/plain": [
       "<Figure size 576x432 with 1 Axes>"
      ]
     },
     "execution_count": 6,
     "metadata": {},
     "output_type": "execute_result"
    }
   ],
   "source": [
    "from qiskit.visualization import plot_histogram\n",
    "\n",
    "hyperparams = list(res.x)\n",
    "l = len(hyperparams)\n",
    "gammas = hyperparams[:l//2]\n",
    "betas  = hyperparams[l//2:]\n",
    "p = 2\n",
    "for i in range(p):\n",
    "        if i == 0:\n",
    "            cir = c_Hamiltonian.perEdgeMap([gammas[0]],1,G,initial_Hadamard=True,barrier=True) + m_Hamiltonian.generalXMixer([betas[0]],1,measure=False,graph_map=True,graph=G)\n",
    "        if i == p - 1:\n",
    "            cir += c_Hamiltonian.perEdgeMap([gammas[i]],1,G,initial_Hadamard=False,barrier=True) + m_Hamiltonian.generalXMixer([betas[i]],1,measure=True,graph_map=True,graph=G)\n",
    "    \n",
    "        cir += c_Hamiltonian.perEdgeMap([gammas[i]],1,G,initial_Hadamard=False,barrier=True) + m_Hamiltonian.generalXMixer([betas[i]],1,measure=False,graph_map=True,graph=G)\n",
    "    \n",
    "# run on local simulator\n",
    "backend      = Aer.get_backend(\"qasm_simulator\")\n",
    "shots        = 10000\n",
    "\n",
    "simulate     = execute(cir, backend=backend, shots=shots)\n",
    "res = simulate.result()\n",
    "\n",
    "# Evaluate the data from the simulator\n",
    "counts = res.get_counts()\n",
    "plot_histogram(counts,figsize = (8,6),bar_labels = True)"
   ]
  },
  {
   "cell_type": "code",
   "execution_count": 7,
   "metadata": {},
   "outputs": [],
   "source": [
    "#Gammas\n",
    "gammas=[np.pi, 2*np.pi]\n",
    "#Betas\n",
    "betas =[np.pi/2, np.pi]\n",
    "\n",
    "hyperparams = gammas + betas\n",
    "\n",
    "def MAX_CUT_QAOA(hyperparams:list):\n",
    "    l = len(hyperparams)\n",
    "    p = 2\n",
    "    gammas = hyperparams[:l//2]\n",
    "    betas  = hyperparams[l//2:]\n",
    "    \n",
    "    cir = c_Hamiltonian.perEdgeMap(gammas,p,G,initial_Hadamard=True,barrier=True) + m_Hamiltonian.generalXMixer(betas,p,measure=True,graph_map=True,graph=G)\n",
    "    # run on local simulator\n",
    "    backend      = Aer.get_backend(\"qasm_simulator\")\n",
    "    shots        = 1024\n",
    "\n",
    "    simulate     = execute(cir, backend=backend, shots=shots)\n",
    "    res = simulate.result()\n",
    "    \n",
    "    res = expt.get_expectationValue(res, shots, G)\n",
    "    \n",
    "    return -1 * res"
   ]
  },
  {
   "cell_type": "code",
   "execution_count": 8,
   "metadata": {},
   "outputs": [
    {
     "name": "stdout",
     "output_type": "stream",
     "text": [
      "     fun: -14.0517578125\n",
      "   maxcv: 0.0\n",
      " message: 'Optimization terminated successfully.'\n",
      "    nfev: 57\n",
      "  status: 1\n",
      " success: True\n",
      "       x: array([3.83927736, 3.04226172, 2.25704622, 3.4074501 ])\n"
     ]
    }
   ],
   "source": [
    "from scipy import optimize as opt\n",
    "from scipy.optimize import Bounds\n",
    "\n",
    "#define the bounds for the hyperparameters\n",
    "bounds = [[0, 2*np.pi], [0, np.pi]]\n",
    "cons = []\n",
    "for factor in range(len(bounds)):\n",
    "    lower, upper = bounds[factor]\n",
    "    l = {'type': 'ineq','fun': lambda x, lb=lower, i=factor: x[i] - lb}\n",
    "    u = {'type': 'ineq','fun': lambda x, ub=upper, i=factor: ub - x[i]}\n",
    "    cons.append(l)\n",
    "    cons.append(u)\n",
    "        \n",
    "res = opt.minimize(MAX_CUT_QAOA, hyperparams,constraints=cons,options={\"maxiter\": 500} ,tol= 1e-3, method='Cobyla')\n",
    "\n",
    "print(res)"
   ]
  },
  {
   "cell_type": "code",
   "execution_count": 9,
   "metadata": {},
   "outputs": [
    {
     "data": {
      "image/png": "[encoded data removed]",
      "text/plain": [
       "<Figure size 576x432 with 1 Axes>"
      ]
     },
     "execution_count": 9,
     "metadata": {},
     "output_type": "execute_result"
    }
   ],
   "source": [
    "from qiskit.visualization import plot_histogram\n",
    "\n",
    "hyperparams = list(res.x)\n",
    "l = len(hyperparams)\n",
    "gammas = hyperparams[:l//2]\n",
    "betas  = hyperparams[l//2:]\n",
    "p = 2\n",
    "fcir = c_Hamiltonian.perEdgeMap(gammas,p,G,initial_Hadamard=True,barrier=True) + m_Hamiltonian.generalXMixer(betas,p,measure=True,graph_map=True,graph=G)\n",
    "    \n",
    "# run on local simulator\n",
    "backend      = Aer.get_backend(\"qasm_simulator\")\n",
    "shots        = 10000\n",
    "\n",
    "simulate     = execute(cir, backend=backend, shots=shots)\n",
    "res = simulate.result()\n",
    "\n",
    "# Evaluate the data from the simulator\n",
    "counts = res.get_counts()\n",
    "plot_histogram(counts,figsize = (8,6),bar_labels = True)"
   ]
  },
  {
   "cell_type": "code",
   "execution_count": null,
   "metadata": {},
   "outputs": [],
   "source": []
  }
 ],
 "metadata": {
  "kernelspec": {
   "display_name": "Python 3",
   "language": "python",
   "name": "python3"
  },
  "language_info": {
   "codemirror_mode": {
    "name": "ipython",
    "version": 3
   },
   "file_extension": ".py",
   "mimetype": "text/x-python",
   "name": "python",
   "nbconvert_exporter": "python",
   "pygments_lexer": "ipython3",
   "version": "3.7.3"
  }
 },
 "nbformat": 4,
 "nbformat_minor": 2
}
